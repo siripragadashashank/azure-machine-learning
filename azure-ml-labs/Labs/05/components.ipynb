{
 "cells": [
  {
   "cell_type": "code",
   "execution_count": 1,
   "id": "initial_id",
   "metadata": {
    "collapsed": true,
    "ExecuteTime": {
     "end_time": "2024-06-18T04:04:53.136773500Z",
     "start_time": "2024-06-18T04:04:40.057903600Z"
    }
   },
   "outputs": [
    {
     "data": {
      "text/plain": "MLClient(credential=<azure.identity._credentials.default.DefaultAzureCredential object at 0x000001E19266B130>,\n         subscription_id=73a3b9d4-4ac9-4810-8752-0f69cc4ac4a3,\n         resource_group_name=DS_Team,\n         workspace_name=mlw-example)"
     },
     "execution_count": 1,
     "metadata": {},
     "output_type": "execute_result"
    }
   ],
   "source": [
    "from azure.ai.ml import MLClient\n",
    "from azure.identity import DefaultAzureCredential\n",
    "from azure.ai.ml import command\n",
    "import os\n",
    "from dotenv import load_dotenv\n",
    "\n",
    "\n",
    "load_dotenv()\n",
    "subscription_id = os.getenv('SUBSCRIPTION_ID')\n",
    "resource_group = os.getenv('RESOURCE_GROUP')\n",
    "workspace = os.getenv('WORKSPACE')\n",
    "storage_account_name = os.getenv('STORAGE_ACCOUNT_NAME')\n",
    "storage_account_key = os.getenv('STORAGE_ACCOUNT_KEY')\n",
    "\n",
    "\n",
    "ml_client = MLClient(\n",
    "    DefaultAzureCredential(), subscription_id, resource_group, workspace\n",
    ")\n",
    "\n",
    "ml_client"
   ]
  },
  {
   "cell_type": "code",
   "outputs": [],
   "source": [
    "from azure.ai.ml import load_component\n",
    "parent_dir = \"\"\n",
    "\n",
    "loaded_component_prep = load_component(source=parent_dir + \"./prep.yml\")"
   ],
   "metadata": {
    "collapsed": false,
    "ExecuteTime": {
     "end_time": "2024-06-18T04:11:23.397795200Z",
     "start_time": "2024-06-18T04:11:23.358412300Z"
    }
   },
   "id": "9b95589225ef959e",
   "execution_count": 3
  },
  {
   "cell_type": "code",
   "outputs": [
    {
     "name": "stderr",
     "output_type": "stream",
     "text": [
      "\u001B[32mUploading src (0.01 MBs): 100%|##########| 9200/9200 [00:01<00:00, 5609.00it/s]\n",
      "\u001B[39m\n",
      "\n"
     ]
    }
   ],
   "source": [
    "prep = ml_client.components.create_or_update(loaded_component_prep)"
   ],
   "metadata": {
    "collapsed": false,
    "ExecuteTime": {
     "end_time": "2024-06-18T04:12:32.385272600Z",
     "start_time": "2024-06-18T04:12:16.507321900Z"
    }
   },
   "id": "2d5d44f6326f54f7",
   "execution_count": 5
  },
  {
   "cell_type": "code",
   "outputs": [
    {
     "ename": "AttributeError",
     "evalue": "'CommandComponent' object has no attribute 'studio_url'",
     "output_type": "error",
     "traceback": [
      "\u001B[1;31m---------------------------------------------------------------------------\u001B[0m",
      "\u001B[1;31mAttributeError\u001B[0m                            Traceback (most recent call last)",
      "Cell \u001B[1;32mIn[6], line 1\u001B[0m\n\u001B[1;32m----> 1\u001B[0m aml_url \u001B[38;5;241m=\u001B[39m \u001B[43mprep\u001B[49m\u001B[38;5;241;43m.\u001B[39;49m\u001B[43mstudio_url\u001B[49m\n\u001B[0;32m      2\u001B[0m \u001B[38;5;28mprint\u001B[39m(\u001B[38;5;124m\"\u001B[39m\u001B[38;5;124mMonitor your job at\u001B[39m\u001B[38;5;124m\"\u001B[39m, aml_url)\n",
      "\u001B[1;31mAttributeError\u001B[0m: 'CommandComponent' object has no attribute 'studio_url'"
     ]
    }
   ],
   "source": [
    "aml_url = prep.studio_url\n",
    "print(\"Monitor your job at\", aml_url)"
   ],
   "metadata": {
    "collapsed": false,
    "ExecuteTime": {
     "end_time": "2024-06-18T04:13:18.340266900Z",
     "start_time": "2024-06-18T04:13:18.287763100Z"
    }
   },
   "id": "a851b4065a006067",
   "execution_count": 6
  },
  {
   "cell_type": "code",
   "outputs": [],
   "source": [],
   "metadata": {
    "collapsed": false
   },
   "id": "500ce4c4c10347f7"
  }
 ],
 "metadata": {
  "kernelspec": {
   "display_name": "Python 3",
   "language": "python",
   "name": "python3"
  },
  "language_info": {
   "codemirror_mode": {
    "name": "ipython",
    "version": 2
   },
   "file_extension": ".py",
   "mimetype": "text/x-python",
   "name": "python",
   "nbconvert_exporter": "python",
   "pygments_lexer": "ipython2",
   "version": "2.7.6"
  }
 },
 "nbformat": 4,
 "nbformat_minor": 5
}
