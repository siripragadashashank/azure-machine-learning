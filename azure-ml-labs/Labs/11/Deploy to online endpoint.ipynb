{
 "cells": [
  {
   "attachments": {},
   "cell_type": "markdown",
   "metadata": {},
   "source": [
    "# Deploy to an online endpoint\n",
    "\n",
    "To consume a model from an application, you can deploy the model to an online endpoint. You'll create an MLflow model from local files and test the endpoint.\n",
    "\n",
    "## Before you start\n",
    "\n",
    "You'll need the latest version of the  **azureml-ai-ml** package to run the code in this notebook. Run the cell below to verify that it is installed.\n",
    "\n",
    "> **Note**:\n",
    "> If the **azure-ai-ml** package is not installed, run `pip install azure-ai-ml` to install it."
   ]
  },
  {
   "cell_type": "code",
   "execution_count": 1,
   "metadata": {
    "gather": {
     "logged": 1667393334445
    },
    "vscode": {
     "languageId": "python"
    },
    "ExecuteTime": {
     "end_time": "2024-06-18T05:37:33.819239100Z",
     "start_time": "2024-06-18T05:37:30.553642100Z"
    }
   },
   "outputs": [
    {
     "name": "stdout",
     "output_type": "stream",
     "text": [
      "Name: azure-ai-ml\n",
      "Version: 1.14.0\n",
      "Summary: Microsoft Azure Machine Learning Client Library for Python\n",
      "Home-page: https://github.com/Azure/azure-sdk-for-python\n",
      "Author: Microsoft Corporation\n",
      "Author-email: azuresdkengsysadmins@microsoft.com\n",
      "License: MIT License\n",
      "Location: c:\\users\\sirip\\miniconda3\\envs\\myenv\\lib\\site-packages\n",
      "Requires: azure-common, azure-core, azure-mgmt-core, azure-storage-blob, azure-storage-file-datalake, azure-storage-file-share, colorama, isodate, jsonschema, marshmallow, msrest, opencensus-ext-azure, opencensus-ext-logging, pydash, pyjwt, pyyaml, strictyaml, tqdm, typing-extensions\n",
      "Required-by: \n"
     ]
    }
   ],
   "source": [
    "!pip show azure-ai-ml"
   ]
  },
  {
   "attachments": {},
   "cell_type": "markdown",
   "metadata": {},
   "source": [
    "## Connect to your workspace\n",
    "\n",
    "With the required SDK packages installed, now you're ready to connect to your workspace.\n",
    "\n",
    "To connect to a workspace, we need identifier parameters - a subscription ID, resource group name, and workspace name. Since you're working with a compute instance, managed by Azure Machine Learning, you can use the default values to connect to the workspace."
   ]
  },
  {
   "cell_type": "code",
   "execution_count": 1,
   "metadata": {
    "gather": {
     "logged": 1667395050398
    },
    "vscode": {
     "languageId": "python"
    },
    "ExecuteTime": {
     "end_time": "2024-06-18T14:31:40.530064700Z",
     "start_time": "2024-06-18T14:31:30.456926500Z"
    }
   },
   "outputs": [
    {
     "data": {
      "text/plain": "MLClient(credential=<azure.identity._credentials.default.DefaultAzureCredential object at 0x000002554D4A9D20>,\n         subscription_id=73a3b9d4-4ac9-4810-8752-0f69cc4ac4a3,\n         resource_group_name=DS_Team,\n         workspace_name=mlw-example)"
     },
     "execution_count": 1,
     "metadata": {},
     "output_type": "execute_result"
    }
   ],
   "source": [
    "from azure.ai.ml import MLClient\n",
    "from azure.identity import DefaultAzureCredential\n",
    "from azure.ai.ml import command\n",
    "import os\n",
    "from dotenv import load_dotenv\n",
    "\n",
    "\n",
    "load_dotenv()\n",
    "subscription_id = os.getenv('SUBSCRIPTION_ID')\n",
    "resource_group = os.getenv('RESOURCE_GROUP')\n",
    "workspace = os.getenv('WORKSPACE')\n",
    "storage_account_name = os.getenv('STORAGE_ACCOUNT_NAME')\n",
    "storage_account_key = os.getenv('STORAGE_ACCOUNT_KEY')\n",
    "\n",
    "\n",
    "ml_client = MLClient(\n",
    "    DefaultAzureCredential(), subscription_id, resource_group, workspace\n",
    ")\n",
    "\n",
    "ml_client"
   ]
  },
  {
   "attachments": {},
   "cell_type": "markdown",
   "metadata": {
    "nteract": {
     "transient": {
      "deleting": false
     }
    }
   },
   "source": [
    "## Define and create an endpoint\n",
    "\n",
    "Ultimately, the goal is to deploy a model to an endpoint. Therefore, you first need to create an endpoint. The endpoint will be a HTTPS endpoint that an application can call to receive predictions from the model. An application can consume an endpoint by using its URI, and authenticating with a key or token.\n",
    "\n",
    "Run the following cell to define the endpoint. Note that the name of the endpoint has to be unique. You'll use the `datetime` function to generate a unique name."
   ]
  },
  {
   "cell_type": "code",
   "execution_count": 2,
   "metadata": {
    "gather": {
     "logged": 1667395025715
    },
    "nteract": {
     "transient": {
      "deleting": false
     }
    },
    "vscode": {
     "languageId": "python"
    },
    "ExecuteTime": {
     "end_time": "2024-06-18T14:56:01.252855100Z",
     "start_time": "2024-06-18T14:56:01.235622Z"
    }
   },
   "outputs": [],
   "source": [
    "from azure.ai.ml.entities import ManagedOnlineEndpoint\n",
    "import datetime\n",
    "\n",
    "online_endpoint_name = \"endpoint-\" + datetime.datetime.now().strftime(\"%m%d%H%M%f\")\n",
    "\n",
    "# create an online endpoint\n",
    "endpoint = ManagedOnlineEndpoint(\n",
    "    name=online_endpoint_name,\n",
    "    description=\"Online endpoint for MLflow diabetes model\",\n",
    "    auth_mode=\"key\",\n",
    ")"
   ]
  },
  {
   "attachments": {},
   "cell_type": "markdown",
   "metadata": {
    "nteract": {
     "transient": {
      "deleting": false
     }
    }
   },
   "source": [
    "Next, you'll create the endpoint by running the following cell. This may take several minutes. While your endpoint is being created, you can read about [what are Azure Machine Learning endpoints](https://learn.microsoft.com/azure/machine-learning/concept-endpoints)."
   ]
  },
  {
   "cell_type": "code",
   "execution_count": 3,
   "metadata": {
    "gather": {
     "logged": 1667395786392
    },
    "nteract": {
     "transient": {
      "deleting": false
     }
    },
    "vscode": {
     "languageId": "python"
    },
    "ExecuteTime": {
     "end_time": "2024-06-18T15:03:20.494257200Z",
     "start_time": "2024-06-18T15:01:43.072377500Z"
    }
   },
   "outputs": [
    {
     "data": {
      "text/plain": "ManagedOnlineEndpoint({'public_network_access': 'Enabled', 'provisioning_state': 'Succeeded', 'scoring_uri': 'https://endpoint-06181056234573.eastus.inference.ml.azure.com/score', 'openapi_uri': 'https://endpoint-06181056234573.eastus.inference.ml.azure.com/swagger.json', 'name': 'endpoint-06181056234573', 'description': 'Online endpoint for MLflow diabetes model', 'tags': {}, 'properties': {'azureml.onlineendpointid': '/subscriptions/73a3b9d4-4ac9-4810-8752-0f69cc4ac4a3/resourcegroups/ds_team/providers/microsoft.machinelearningservices/workspaces/mlw-example/onlineendpoints/endpoint-06181056234573', 'AzureAsyncOperationUri': 'https://management.azure.com/subscriptions/73a3b9d4-4ac9-4810-8752-0f69cc4ac4a3/providers/Microsoft.MachineLearningServices/locations/eastus/mfeOperationsStatus/oeidp:444254f6-1654-424b-9972-8f40ab1af838:e8b84c0c-23cb-498a-8153-c46c0f099abf?api-version=2022-02-01-preview'}, 'print_as_yaml': False, 'id': '/subscriptions/73a3b9d4-4ac9-4810-8752-0f69cc4ac4a3/resourceGroups/DS_Team/providers/Microsoft.MachineLearningServices/workspaces/mlw-example/onlineEndpoints/endpoint-06181056234573', 'Resource__source_path': '', 'base_path': 'C:\\\\Users\\\\sirip\\\\Documents\\\\azure-machine-learning\\\\azure-ml-labs\\\\Labs\\\\11', 'creation_context': None, 'serialize': <msrest.serialization.Serializer object at 0x0000025555532BC0>, 'auth_mode': 'key', 'location': 'eastus', 'identity': <azure.ai.ml.entities._credentials.IdentityConfiguration object at 0x00000255555462C0>, 'traffic': {}, 'mirror_traffic': {}, 'kind': 'Managed'})"
     },
     "execution_count": 3,
     "metadata": {},
     "output_type": "execute_result"
    }
   ],
   "source": [
    "ml_client.begin_create_or_update(endpoint).result()"
   ]
  },
  {
   "attachments": {},
   "cell_type": "markdown",
   "metadata": {
    "nteract": {
     "transient": {
      "deleting": false
     }
    }
   },
   "source": [
    "<p style=\"color:red;font-size:120%;background-color:yellow;font-weight:bold\"> IMPORTANT! Wait until the endpoint is created successfully before continuing! A green notification should appear in the studio. </p>\n",
    "\n",
    "## Configure the deployment\n",
    "\n",
    "You can deploy multiple models to an endpoint. This is mostly useful when you want to update the deployed model while keeping the current model in production. You'll need to configure the deployment to specify which model needs to be deployed to an endpoint. In the following cell, you'll refer to the model trained and stored in the local `model` folder (stored in the same folder as this notebook). Note that since you're working with an MLflow model, you don't need to specify the environment or scoring script.\n",
    "\n",
    "You'll also specify the infrastructure needed for the model to be deployed."
   ]
  },
  {
   "cell_type": "code",
   "execution_count": 4,
   "metadata": {
    "gather": {
     "logged": 1667395410378
    },
    "nteract": {
     "transient": {
      "deleting": false
     }
    },
    "vscode": {
     "languageId": "python"
    },
    "ExecuteTime": {
     "end_time": "2024-06-18T15:08:54.730397300Z",
     "start_time": "2024-06-18T15:08:54.720917900Z"
    }
   },
   "outputs": [],
   "source": [
    "from azure.ai.ml.entities import Model, ManagedOnlineDeployment\n",
    "from azure.ai.ml.constants import AssetTypes\n",
    "\n",
    "# create a blue deployment\n",
    "model = Model(\n",
    "    path=\"./model\",\n",
    "    type=AssetTypes.MLFLOW_MODEL,\n",
    "    description=\"my sample mlflow model\",\n",
    ")\n",
    "\n",
    "blue_deployment = ManagedOnlineDeployment(\n",
    "    name=\"blue\",\n",
    "    endpoint_name=online_endpoint_name,\n",
    "    model=model,\n",
    "    instance_type=\"Standard_F4s_v2\",\n",
    "    instance_count=1,\n",
    ")"
   ]
  },
  {
   "attachments": {},
   "cell_type": "markdown",
   "metadata": {
    "nteract": {
     "transient": {
      "deleting": false
     }
    }
   },
   "source": [
    "## Create the deployment\n",
    "\n",
    "Finally, you can actually deploy the model to the endpoint by running the following cell:"
   ]
  },
  {
   "cell_type": "code",
   "execution_count": 5,
   "metadata": {
    "gather": {
     "logged": 1667395487568
    },
    "nteract": {
     "transient": {
      "deleting": false
     }
    },
    "vscode": {
     "languageId": "python"
    },
    "ExecuteTime": {
     "end_time": "2024-06-18T15:33:19.557578900Z",
     "start_time": "2024-06-18T15:25:11.709731800Z"
    }
   },
   "outputs": [
    {
     "name": "stderr",
     "output_type": "stream",
     "text": [
      "Check: endpoint endpoint-06181056234573 exists\n",
      "\u001B[32mUploading model (0.0 MBs): 100%|##########| 2148/2148 [00:00<00:00, 3227.92it/s]\n",
      "\u001B[39m\n",
      "\n"
     ]
    },
    {
     "name": "stdout",
     "output_type": "stream",
     "text": [
      "............................................................................................."
     ]
    },
    {
     "data": {
      "text/plain": "ManagedOnlineDeployment({'private_network_connection': None, 'package_model': False, 'provisioning_state': 'Succeeded', 'endpoint_name': 'endpoint-06181056234573', 'type': 'Managed', 'name': 'blue', 'description': None, 'tags': {}, 'properties': {'AzureAsyncOperationUri': 'https://management.azure.com/subscriptions/73a3b9d4-4ac9-4810-8752-0f69cc4ac4a3/providers/Microsoft.MachineLearningServices/locations/eastus/mfeOperationsStatus/odidp:444254f6-1654-424b-9972-8f40ab1af838:161f08fc-7c5c-4028-96d6-07263059365e?api-version=2023-04-01-preview'}, 'print_as_yaml': False, 'id': '/subscriptions/73a3b9d4-4ac9-4810-8752-0f69cc4ac4a3/resourceGroups/DS_Team/providers/Microsoft.MachineLearningServices/workspaces/mlw-example/onlineEndpoints/endpoint-06181056234573/deployments/blue', 'Resource__source_path': '', 'base_path': 'C:\\\\Users\\\\sirip\\\\Documents\\\\azure-machine-learning\\\\azure-ml-labs\\\\Labs\\\\11', 'creation_context': None, 'serialize': <msrest.serialization.Serializer object at 0x00000255554C2680>, 'model': '/subscriptions/73a3b9d4-4ac9-4810-8752-0f69cc4ac4a3/resourceGroups/DS_Team/providers/Microsoft.MachineLearningServices/workspaces/mlw-example/models/610438d799bd199d8b2eca96a013818a/versions/1', 'code_configuration': None, 'environment': '/subscriptions/73a3b9d4-4ac9-4810-8752-0f69cc4ac4a3/resourceGroups/DS_Team/providers/Microsoft.MachineLearningServices/workspaces/mlw-example/environments/DefaultNcdEnv-mlflow-ubuntu20-04-py38-cpu-inference/versions/20240522v1', 'environment_variables': {'MLFLOW_MODEL_FOLDER': 'model', 'AZUREML_EXTRA_CONDA_YAML_ABS_PATH': '/var/azureml-app/azureml-models/610438d799bd199d8b2eca96a013818a/1/model/conda.yaml', 'AZUREML_MODEL_DIR': '/var/azureml-app/azureml-models/610438d799bd199d8b2eca96a013818a/1'}, 'app_insights_enabled': False, 'scale_settings': <azure.ai.ml.entities._deployment.scale_settings.DefaultScaleSettings object at 0x00000255554C19C0>, 'request_settings': <azure.ai.ml.entities._deployment.deployment_settings.OnlineRequestSettings object at 0x00000255554C35B0>, 'liveness_probe': <azure.ai.ml.entities._deployment.deployment_settings.ProbeSettings object at 0x00000255554C36A0>, 'readiness_probe': <azure.ai.ml.entities._deployment.deployment_settings.ProbeSettings object at 0x00000255554C2950>, 'instance_count': 1, 'arm_type': 'online_deployment', 'model_mount_path': None, 'instance_type': 'Standard_F4s_v2', 'data_collector': None, 'egress_public_network_access': 'Enabled'})"
     },
     "execution_count": 5,
     "metadata": {},
     "output_type": "execute_result"
    }
   ],
   "source": [
    "ml_client.online_deployments.begin_create_or_update(blue_deployment).result()"
   ]
  },
  {
   "attachments": {},
   "cell_type": "markdown",
   "metadata": {},
   "source": [
    "The deployment of the model may take 10-15 minutes. While waiting for the model to be deployed, you can learn more about [managed endpoints in this video](https://www.youtube.com/watch?v=SxFGw_OBxNM&ab_channel=MicrosoftDeveloper).\n",
    "\n",
    "<p style=\"color:red;font-size:120%;background-color:yellow;font-weight:bold\"> IMPORTANT! Wait until the deployment is completed before continuing! A green notification should appear in the studio.</p>\n",
    "\n",
    "Since you only have one model deployed to the endpoint, you want this deployment to take 100% of the traffic. If you deploy multiple models to the endpoint, you could use the same approach to distribute traffic across the deployed models."
   ]
  },
  {
   "cell_type": "code",
   "execution_count": 6,
   "metadata": {
    "gather": {
     "logged": 1667341237843
    },
    "nteract": {
     "transient": {
      "deleting": false
     }
    },
    "vscode": {
     "languageId": "python"
    },
    "ExecuteTime": {
     "end_time": "2024-06-18T15:33:52.349934300Z",
     "start_time": "2024-06-18T15:33:19.559665400Z"
    }
   },
   "outputs": [
    {
     "data": {
      "text/plain": "ManagedOnlineEndpoint({'public_network_access': 'Enabled', 'provisioning_state': 'Succeeded', 'scoring_uri': 'https://endpoint-06181056234573.eastus.inference.ml.azure.com/score', 'openapi_uri': 'https://endpoint-06181056234573.eastus.inference.ml.azure.com/swagger.json', 'name': 'endpoint-06181056234573', 'description': 'Online endpoint for MLflow diabetes model', 'tags': {}, 'properties': {'azureml.onlineendpointid': '/subscriptions/73a3b9d4-4ac9-4810-8752-0f69cc4ac4a3/resourcegroups/ds_team/providers/microsoft.machinelearningservices/workspaces/mlw-example/onlineendpoints/endpoint-06181056234573', 'AzureAsyncOperationUri': 'https://management.azure.com/subscriptions/73a3b9d4-4ac9-4810-8752-0f69cc4ac4a3/providers/Microsoft.MachineLearningServices/locations/eastus/mfeOperationsStatus/oeidp:444254f6-1654-424b-9972-8f40ab1af838:69d9194f-3408-4ac3-b65e-ac5259b10cb5?api-version=2022-02-01-preview'}, 'print_as_yaml': False, 'id': '/subscriptions/73a3b9d4-4ac9-4810-8752-0f69cc4ac4a3/resourceGroups/DS_Team/providers/Microsoft.MachineLearningServices/workspaces/mlw-example/onlineEndpoints/endpoint-06181056234573', 'Resource__source_path': '', 'base_path': 'C:\\\\Users\\\\sirip\\\\Documents\\\\azure-machine-learning\\\\azure-ml-labs\\\\Labs\\\\11', 'creation_context': None, 'serialize': <msrest.serialization.Serializer object at 0x00000255554C0FA0>, 'auth_mode': 'key', 'location': 'eastus', 'identity': <azure.ai.ml.entities._credentials.IdentityConfiguration object at 0x00000255554C1450>, 'traffic': {'blue': 100}, 'mirror_traffic': {}, 'kind': 'Managed'})"
     },
     "execution_count": 6,
     "metadata": {},
     "output_type": "execute_result"
    }
   ],
   "source": [
    "# blue deployment takes 100 traffic\n",
    "endpoint.traffic = {\"blue\": 100}\n",
    "ml_client.begin_create_or_update(endpoint).result()"
   ]
  },
  {
   "attachments": {},
   "cell_type": "markdown",
   "metadata": {
    "nteract": {
     "transient": {
      "deleting": false
     }
    }
   },
   "source": [
    "<p style=\"color:red;font-size:120%;background-color:yellow;font-weight:bold\"> IMPORTANT! Wait until the blue deployment is configured before continuing! A green notification should appear in the studio. </p> \n",
    "\n",
    "## Test the deployment\n",
    "\n",
    "Let's test the deployed model by invoking the endpoint. A JSON file with sample data is used as input. The trained model predicts whether a patient has diabetes or not, based on medical data like age, BMI, and the number of pregnancies. A `[0]` indicates a patient doesn't have diabetes. A `[1]` means a patient does have diabetes."
   ]
  },
  {
   "cell_type": "code",
   "execution_count": 7,
   "metadata": {
    "gather": {
     "logged": 1667385183402
    },
    "nteract": {
     "transient": {
      "deleting": false
     }
    },
    "vscode": {
     "languageId": "python"
    },
    "ExecuteTime": {
     "end_time": "2024-06-18T15:47:32.508263800Z",
     "start_time": "2024-06-18T15:47:29.884541500Z"
    }
   },
   "outputs": [
    {
     "name": "stdout",
     "output_type": "stream",
     "text": [
      "Diabetic\n"
     ]
    }
   ],
   "source": [
    "# test the blue deployment with some sample data\n",
    "response = ml_client.online_endpoints.invoke(\n",
    "    endpoint_name=online_endpoint_name,\n",
    "    deployment_name=\"blue\",\n",
    "    request_file=\"sample-data.json\",\n",
    ")\n",
    "\n",
    "if response[1]=='1':\n",
    "    print(\"Diabetic\")\n",
    "else:\n",
    "    print (\"Not diabetic\")"
   ]
  },
  {
   "attachments": {},
   "cell_type": "markdown",
   "metadata": {},
   "source": [
    "Optionally, you can change the values in the `sample-data.json` file to try and get a different prediction."
   ]
  },
  {
   "attachments": {},
   "cell_type": "markdown",
   "metadata": {
    "nteract": {
     "transient": {
      "deleting": false
     }
    }
   },
   "source": [
    "## List endpoints\n",
    "\n",
    "Although you can view all endpoints in the Studio, you can also list all endpoints using the SDK:"
   ]
  },
  {
   "cell_type": "code",
   "execution_count": 8,
   "metadata": {
    "gather": {
     "logged": 1667395563837
    },
    "nteract": {
     "transient": {
      "deleting": false
     }
    },
    "vscode": {
     "languageId": "python"
    },
    "ExecuteTime": {
     "end_time": "2024-06-18T15:47:36.964187500Z",
     "start_time": "2024-06-18T15:47:36.666024800Z"
    }
   },
   "outputs": [
    {
     "name": "stdout",
     "output_type": "stream",
     "text": [
      "endpoint-06181056234573\n"
     ]
    }
   ],
   "source": [
    "endpoints = ml_client.online_endpoints.list()\n",
    "for endp in endpoints:\n",
    "    print(endp.name)"
   ]
  },
  {
   "attachments": {},
   "cell_type": "markdown",
   "metadata": {
    "nteract": {
     "transient": {
      "deleting": false
     }
    }
   },
   "source": [
    "## Get endpoint details\n",
    "\n",
    "If you want more information about a specific endpoint, you can explore the details using the SDK too."
   ]
  },
  {
   "cell_type": "code",
   "execution_count": 9,
   "metadata": {
    "gather": {
     "logged": 1667395538913
    },
    "nteract": {
     "transient": {
      "deleting": false
     }
    },
    "vscode": {
     "languageId": "python"
    },
    "ExecuteTime": {
     "end_time": "2024-06-18T15:47:47.928419800Z",
     "start_time": "2024-06-18T15:47:47.309999500Z"
    }
   },
   "outputs": [
    {
     "name": "stdout",
     "output_type": "stream",
     "text": [
      "{'blue': 100}\n",
      "https://endpoint-06181056234573.eastus.inference.ml.azure.com/score\n"
     ]
    }
   ],
   "source": [
    "# Get the details for online endpoint\n",
    "endpoint = ml_client.online_endpoints.get(name=online_endpoint_name)\n",
    "\n",
    "# existing traffic details\n",
    "print(endpoint.traffic)\n",
    "\n",
    "# Get the scoring URI\n",
    "print(endpoint.scoring_uri)"
   ]
  },
  {
   "attachments": {},
   "cell_type": "markdown",
   "metadata": {
    "nteract": {
     "transient": {
      "deleting": false
     }
    }
   },
   "source": [
    "## Delete the endpoint and deployment\n",
    "\n",
    "As an endpoint is always available, it can't be paused to save costs. To avoid unnecessary costs, delete the endpoint."
   ]
  },
  {
   "cell_type": "code",
   "execution_count": 10,
   "metadata": {
    "gather": {
     "logged": 1667395549933
    },
    "nteract": {
     "transient": {
      "deleting": false
     }
    },
    "vscode": {
     "languageId": "python"
    },
    "ExecuteTime": {
     "end_time": "2024-06-18T15:47:56.047919600Z",
     "start_time": "2024-06-18T15:47:55.472527700Z"
    }
   },
   "outputs": [
    {
     "data": {
      "text/plain": "<azure.core.polling._poller.LROPoller at 0x255554c3610>"
     },
     "execution_count": 10,
     "metadata": {},
     "output_type": "execute_result"
    }
   ],
   "source": [
    "ml_client.online_endpoints.begin_delete(name=online_endpoint_name)"
   ]
  },
  {
   "cell_type": "code",
   "outputs": [],
   "source": [],
   "metadata": {
    "collapsed": false
   }
  }
 ],
 "metadata": {
  "kernel_info": {
   "name": "python38-azureml"
  },
  "kernelspec": {
   "name": "python3",
   "language": "python",
   "display_name": "Python 3 (ipykernel)"
  },
  "microsoft": {
   "host": {
    "AzureML": {
     "notebookHasBeenCompleted": true
    }
   }
  },
  "nteract": {
   "version": "nteract-front-end@1.0.0"
  },
  "vscode": {
   "interpreter": {
    "hash": "f2b2cd046deda8eabef1e765a11d0ec9aa9bd1d31d56ce79c815a38c323e14ec"
   }
  }
 },
 "nbformat": 4,
 "nbformat_minor": 2
}
